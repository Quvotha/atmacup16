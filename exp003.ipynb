{
 "cells": [
  {
   "cell_type": "code",
   "execution_count": null,
   "id": "ff2d5431-94e9-461e-b21b-99abce27c2fa",
   "metadata": {},
   "outputs": [],
   "source": [
    "import os\n",
    "import random\n",
    "\n",
    "from joblib import Parallel, delayed\n",
    "import numpy as np\n",
    "import pandas as pd\n",
    "# from tqdm.auto import tqdm"
   ]
  },
  {
   "cell_type": "code",
   "execution_count": null,
   "id": "ea91d034-7b44-440d-978c-13e59af65673",
   "metadata": {},
   "outputs": [],
   "source": [
    "DIRECTORY = os.path.join(os.path.expanduser(\"~\"), \"atmacup16\")"
   ]
  },
  {
   "cell_type": "code",
   "execution_count": null,
   "id": "2359a648-c07d-44a6-98ac-455dd0f8a906",
   "metadata": {},
   "outputs": [],
   "source": [
    "%%time\n",
    "# 都道府県ごとのランキング\n",
    "label = pd.read_csv(os.path.join(DIRECTORY, \"input\", \"train_label.csv\"))\n",
    "yado = pd.read_csv(os.path.join(DIRECTORY, \"input\", \"yado.csv\"))\n",
    "count_by_prefecture = pd.merge(label, yado).groupby(\"ken_cd\")[\"yad_no\"].value_counts().sort_values(ascending=False)\n",
    "count_by_prefecture"
   ]
  },
  {
   "cell_type": "code",
   "execution_count": null,
   "id": "f4cecd40-7644-45a9-bef0-0b342ca8f377",
   "metadata": {},
   "outputs": [],
   "source": [
    "%%time\n",
    "log_test = pd.read_csv(os.path.join(DIRECTORY, \"input\", \"test_log.csv\"))\n",
    "log_test"
   ]
  },
  {
   "cell_type": "code",
   "execution_count": null,
   "id": "7010aba0-98ea-4c31-b823-00bdb4ea23ce",
   "metadata": {},
   "outputs": [],
   "source": [
    "co_occurance_rate = np.load(os.path.join(DIRECTORY, \"features\", \"cooccurance_rate.npy\"))\n",
    "co_occurance_rate.shape"
   ]
  },
  {
   "cell_type": "code",
   "execution_count": null,
   "id": "633ac36e-7f4c-4f8c-960b-0087243e30d2",
   "metadata": {},
   "outputs": [],
   "source": [
    "yad_numbers = [i for i in range(1, co_occurance_rate.shape[0] + 1)]"
   ]
  },
  {
   "cell_type": "code",
   "execution_count": null,
   "id": "7afb32ba-1cd4-4af2-bc9b-c4b1269e4662",
   "metadata": {},
   "outputs": [],
   "source": [
    "K = 10\n",
    "\n",
    "def get_prediction(session_id: str, session_df: pd.DataFrame) -> dict:\n",
    "\n",
    "    prediction = {\"session_id\": session_id}\n",
    "    session_df.sort_values(\"seq_no\", inplace=True)\n",
    "\n",
    "    # セッション中に閲覧した宿は候補、ただし最後は除く\n",
    "    yad_no_last = session_df.iloc[session_df.shape[0] - 1, session_df.columns.get_loc(\"yad_no\")]\n",
    "    yad_numers_in_session = session_df[\"yad_no\"].unique().tolist()\n",
    "    candicates = [no for no in yad_numers_in_session if no != yad_no_last]\n",
    "\n",
    "    # 共起行列から共起割合が高い宿を取得`\n",
    "    rate_dfs = []\n",
    "    for yad_no in yad_numers_in_session:\n",
    "        rate_dfs.append(pd.DataFrame({\"yad_no\": yad_numbers, \"ratio\": co_occurance_rate[yad_no - 1]}))\n",
    "    rate_df = pd.concat(rate_dfs).sort_values(\"ratio\", ascending=False).query(\"ratio > 0\").query(f\"yad_no != {yad_no_last}\")\n",
    "    rate_df = rate_df[~rate_df[\"yad_no\"].isin(candicates)]\n",
    "    if len(candicates) < K:\n",
    "        candicates += rate_df[\"yad_no\"].drop_duplicates().tolist()[:K-len(candicates)]\n",
    "\n",
    "    if len(candicates) < K:\n",
    "        session_df = pd.merge(session_df, yado[[\"yad_no\", \"ken_cd\"]])\n",
    "        most_frequently_seen_prefecture = session_df[\"ken_cd\"].mode()[0]\n",
    "        ranking = count_by_prefecture.loc[most_frequently_seen_prefecture]\n",
    "        candicates += ranking.index.tolist()[:K-len(candicates)]\n",
    "    while len(candicates) < K:\n",
    "        r = random.choice(yad_numbers)\n",
    "        if r not in candicates and r != yad_no_last:\n",
    "            candicates.append(r)\n",
    "\n",
    "    for i, c in enumerate(candicates[:K]):\n",
    "        prediction[f\"predict_{i}\"] = c\n",
    "\n",
    "    return prediction"
   ]
  },
  {
   "cell_type": "code",
   "execution_count": null,
   "id": "bc43e0eb-b86b-4d24-859f-e6e3839af436",
   "metadata": {},
   "outputs": [],
   "source": [
    "predictions = Parallel(n_jobs=7, verbose=1)(delayed(get_prediction)(i, df) for i, df in log_test.groupby(\"session_id\"))\n",
    "predictions = pd.DataFrame(predictions).set_index(\"session_id\").sort_index()\n",
    "predictions"
   ]
  },
  {
   "cell_type": "code",
   "execution_count": null,
   "id": "7e12b2e8-a96a-4850-bb3c-5f4f36df393f",
   "metadata": {},
   "outputs": [],
   "source": [
    "%%time\n",
    "test_session = pd.read_csv(os.path.join(DIRECTORY, \"input\", \"test_session.csv\"))\n",
    "test_session"
   ]
  },
  {
   "cell_type": "code",
   "execution_count": null,
   "id": "529f5136-e10e-481f-9ec3-5090b4b86986",
   "metadata": {},
   "outputs": [],
   "source": [
    "test_session[predictions.columns] = predictions.loc[test_session[\"session_id\"], predictions.columns].values\n",
    "test_session"
   ]
  },
  {
   "cell_type": "code",
   "execution_count": null,
   "id": "389ec9c7-a680-45f4-8488-79d5792aa17c",
   "metadata": {},
   "outputs": [],
   "source": [
    "test_session.drop(columns=[\"session_id\"]).to_csv(os.path.join(DIRECTORY, \"submissions\", \"exp003.csv\"), index=False)"
   ]
  },
  {
   "cell_type": "code",
   "execution_count": null,
   "id": "54b7294e-2b6b-44e9-9565-30864721d2e5",
   "metadata": {},
   "outputs": [],
   "source": []
  }
 ],
 "metadata": {
  "kernelspec": {
   "display_name": "Python 3 (ipykernel)",
   "language": "python",
   "name": "python3"
  },
  "language_info": {
   "codemirror_mode": {
    "name": "ipython",
    "version": 3
   },
   "file_extension": ".py",
   "mimetype": "text/x-python",
   "name": "python",
   "nbconvert_exporter": "python",
   "pygments_lexer": "ipython3",
   "version": "3.10.11"
  }
 },
 "nbformat": 4,
 "nbformat_minor": 5
}
