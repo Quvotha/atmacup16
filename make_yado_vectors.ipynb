{
 "cells": [
  {
   "cell_type": "code",
   "execution_count": 1,
   "id": "a1088771-33d5-415e-959c-57f5f67f473a",
   "metadata": {},
   "outputs": [],
   "source": [
    "import gc\n",
    "import os\n",
    "\n",
    "import numpy as np\n",
    "import pandas as pd\n",
    "\n",
    "import yado_vectorization"
   ]
  },
  {
   "cell_type": "code",
   "execution_count": 2,
   "id": "3675cfe9-f789-41bf-ac89-8344984ee2d2",
   "metadata": {},
   "outputs": [],
   "source": [
    "DIRECTORY = os.path.join(os.path.expanduser(\"~\"), \"atmacup16\")"
   ]
  },
  {
   "cell_type": "code",
   "execution_count": 3,
   "id": "c9bd2352-04ec-4c29-bee4-523f353099f2",
   "metadata": {},
   "outputs": [
    {
     "name": "stdout",
     "output_type": "stream",
     "text": [
      "CPU times: total: 812 ms\n",
      "Wall time: 916 ms\n"
     ]
    }
   ],
   "source": [
    "%%time\n",
    "log_train = pd.read_csv(os.path.join(DIRECTORY, \"input\", \"train_log.csv\"))\n",
    "log_test = pd.read_csv(os.path.join(DIRECTORY, \"input\", \"test_log.csv\"))\n",
    "label = pd.read_csv(os.path.join(DIRECTORY, \"input\", \"train_label.csv\"))\n",
    "yado = pd.read_csv(os.path.join(DIRECTORY, \"input\", \"yado.csv\"))"
   ]
  },
  {
   "cell_type": "code",
   "execution_count": 4,
   "id": "ec958642-d7eb-4042-b74e-9e4f6788ba77",
   "metadata": {},
   "outputs": [
    {
     "data": {
      "text/html": [
       "<div>\n",
       "<style scoped>\n",
       "    .dataframe tbody tr th:only-of-type {\n",
       "        vertical-align: middle;\n",
       "    }\n",
       "\n",
       "    .dataframe tbody tr th {\n",
       "        vertical-align: top;\n",
       "    }\n",
       "\n",
       "    .dataframe thead th {\n",
       "        text-align: right;\n",
       "    }\n",
       "</style>\n",
       "<table border=\"1\" class=\"dataframe\">\n",
       "  <thead>\n",
       "    <tr style=\"text-align: right;\">\n",
       "      <th></th>\n",
       "      <th>session_id</th>\n",
       "      <th>seq_no</th>\n",
       "      <th>yad_no</th>\n",
       "    </tr>\n",
       "  </thead>\n",
       "  <tbody>\n",
       "    <tr>\n",
       "      <th>0</th>\n",
       "      <td>000007603d533d30453cc45d0f3d119f</td>\n",
       "      <td>0</td>\n",
       "      <td>2395</td>\n",
       "    </tr>\n",
       "    <tr>\n",
       "      <th>1</th>\n",
       "      <td>000007603d533d30453cc45d0f3d119f</td>\n",
       "      <td>1</td>\n",
       "      <td>4101</td>\n",
       "    </tr>\n",
       "    <tr>\n",
       "      <th>2</th>\n",
       "      <td>00001149e9c73985425197104712478c</td>\n",
       "      <td>0</td>\n",
       "      <td>3560</td>\n",
       "    </tr>\n",
       "    <tr>\n",
       "      <th>3</th>\n",
       "      <td>00001149e9c73985425197104712478c</td>\n",
       "      <td>1</td>\n",
       "      <td>1959</td>\n",
       "    </tr>\n",
       "    <tr>\n",
       "      <th>4</th>\n",
       "      <td>0000ca043ed437a1472c9d1d154eb49b</td>\n",
       "      <td>0</td>\n",
       "      <td>13535</td>\n",
       "    </tr>\n",
       "    <tr>\n",
       "      <th>...</th>\n",
       "      <td>...</td>\n",
       "      <td>...</td>\n",
       "      <td>...</td>\n",
       "    </tr>\n",
       "    <tr>\n",
       "      <th>958268</th>\n",
       "      <td>ffffcd5bc19d62cad5a3815c87818d83</td>\n",
       "      <td>3</td>\n",
       "      <td>10619</td>\n",
       "    </tr>\n",
       "    <tr>\n",
       "      <th>958269</th>\n",
       "      <td>ffffe984aafd6127ce8e43e3ca40c79d</td>\n",
       "      <td>0</td>\n",
       "      <td>8250</td>\n",
       "    </tr>\n",
       "    <tr>\n",
       "      <th>958270</th>\n",
       "      <td>fffffa7baf370083ebcdd98f26a7e31a</td>\n",
       "      <td>0</td>\n",
       "      <td>2439</td>\n",
       "    </tr>\n",
       "    <tr>\n",
       "      <th>958271</th>\n",
       "      <td>fffffa7baf370083ebcdd98f26a7e31a</td>\n",
       "      <td>1</td>\n",
       "      <td>11822</td>\n",
       "    </tr>\n",
       "    <tr>\n",
       "      <th>958272</th>\n",
       "      <td>fffffa7baf370083ebcdd98f26a7e31a</td>\n",
       "      <td>2</td>\n",
       "      <td>2439</td>\n",
       "    </tr>\n",
       "  </tbody>\n",
       "</table>\n",
       "<p>958273 rows × 3 columns</p>\n",
       "</div>"
      ],
      "text/plain": [
       "                              session_id  seq_no  yad_no\n",
       "0       000007603d533d30453cc45d0f3d119f       0    2395\n",
       "1       000007603d533d30453cc45d0f3d119f       1    4101\n",
       "2       00001149e9c73985425197104712478c       0    3560\n",
       "3       00001149e9c73985425197104712478c       1    1959\n",
       "4       0000ca043ed437a1472c9d1d154eb49b       0   13535\n",
       "...                                  ...     ...     ...\n",
       "958268  ffffcd5bc19d62cad5a3815c87818d83       3   10619\n",
       "958269  ffffe984aafd6127ce8e43e3ca40c79d       0    8250\n",
       "958270  fffffa7baf370083ebcdd98f26a7e31a       0    2439\n",
       "958271  fffffa7baf370083ebcdd98f26a7e31a       1   11822\n",
       "958272  fffffa7baf370083ebcdd98f26a7e31a       2    2439\n",
       "\n",
       "[958273 rows x 3 columns]"
      ]
     },
     "execution_count": 4,
     "metadata": {},
     "output_type": "execute_result"
    }
   ],
   "source": [
    "# 全てのログ情報を1つにまとめる\n",
    "# - 教師ラベルは訓練データの各セッションの最後\n",
    "last_seq_no = log_train.groupby(\"session_id\")[\"seq_no\"].max()\n",
    "label[\"seq_no\"] = last_seq_no.loc[label[\"session_id\"]].values + 1\n",
    "log = pd.concat([log_train, log_test, label]).sort_values([\"session_id\", \"seq_no\"]).reset_index(drop=True)\n",
    "assert not log.duplicated(subset=[\"session_id\", \"seq_no\"]).any()  # 重複は無い\n",
    "log"
   ]
  },
  {
   "cell_type": "code",
   "execution_count": 5,
   "id": "36e3b631-ab86-4d08-b47c-6321031f2d83",
   "metadata": {},
   "outputs": [
    {
     "name": "stdout",
     "output_type": "stream",
     "text": [
      "CPU times: total: 672 ms\n",
      "Wall time: 696 ms\n"
     ]
    },
    {
     "data": {
      "text/plain": [
       "(13806,)"
      ]
     },
     "execution_count": 5,
     "metadata": {},
     "output_type": "execute_result"
    }
   ],
   "source": [
    "%%time\n",
    "occurance_rate = yado_vectorization.get_occurance_rate_array(log)\n",
    "occurance_rate.shape"
   ]
  },
  {
   "cell_type": "code",
   "execution_count": 6,
   "id": "1a218080-09b0-484e-bc92-b6501fb03636",
   "metadata": {},
   "outputs": [
    {
     "data": {
      "text/plain": [
       "array([6.68971381e-05, 8.41609157e-05, 5.52440882e-04, ...,\n",
       "       2.41692886e-04, 8.63188879e-06, 1.10056582e-04])"
      ]
     },
     "execution_count": 6,
     "metadata": {},
     "output_type": "execute_result"
    }
   ],
   "source": [
    "occurance_rate"
   ]
  },
  {
   "cell_type": "code",
   "execution_count": 7,
   "id": "335115cf-deb0-46db-83e5-36adf38e7b25",
   "metadata": {},
   "outputs": [
    {
     "data": {
      "text/plain": [
       "0"
      ]
     },
     "execution_count": 7,
     "metadata": {},
     "output_type": "execute_result"
    }
   ],
   "source": [
    "np.save(os.path.join(DIRECTORY, \"features\", \"occurance_rate.npy\"), occurance_rate)\n",
    "del occurance_rate\n",
    "gc.collect()"
   ]
  },
  {
   "cell_type": "code",
   "execution_count": 9,
   "id": "0f34d52b-622c-4449-9486-e5a13562271a",
   "metadata": {},
   "outputs": [
    {
     "name": "stdout",
     "output_type": "stream",
     "text": [
      "CPU times: total: 2h 50min 55s\n",
      "Wall time: 2h 53min 13s\n"
     ]
    },
    {
     "data": {
      "text/plain": [
       "(13806, 13806)"
      ]
     },
     "execution_count": 9,
     "metadata": {},
     "output_type": "execute_result"
    }
   ],
   "source": [
    "%%time\n",
    "cooccurance_rate = yado_vectorization.get_cooccurance_rate_array(log)\n",
    "cooccurance_rate.shape"
   ]
  },
  {
   "cell_type": "code",
   "execution_count": 10,
   "id": "087d1c83-117e-41a6-ab00-9b462ea68249",
   "metadata": {},
   "outputs": [
    {
     "data": {
      "text/plain": [
       "array([[0.        , 0.        , 0.        , ..., 0.        , 0.        ,\n",
       "        0.        ],\n",
       "       [0.        , 0.1025641 , 0.        , ..., 0.        , 0.        ,\n",
       "        0.        ],\n",
       "       [0.        , 0.        , 0.16796875, ..., 0.        , 0.        ,\n",
       "        0.        ],\n",
       "       ...,\n",
       "       [0.        , 0.        , 0.        , ..., 0.14285714, 0.        ,\n",
       "        0.        ],\n",
       "       [0.        , 0.        , 0.        , ..., 0.        , 0.        ,\n",
       "        0.        ],\n",
       "       [0.        , 0.        , 0.        , ..., 0.        , 0.        ,\n",
       "        0.11764706]])"
      ]
     },
     "execution_count": 10,
     "metadata": {},
     "output_type": "execute_result"
    }
   ],
   "source": [
    "cooccurance_rate"
   ]
  },
  {
   "cell_type": "code",
   "execution_count": 11,
   "id": "5f3f0e30-1831-4394-973e-5a39e60707de",
   "metadata": {},
   "outputs": [
    {
     "data": {
      "text/plain": [
       "0"
      ]
     },
     "execution_count": 11,
     "metadata": {},
     "output_type": "execute_result"
    }
   ],
   "source": [
    "np.save(os.path.join(DIRECTORY, \"features\", \"cooccurance_rate.npy\"), cooccurance_rate)\n",
    "del cooccurance_rate\n",
    "gc.collect()"
   ]
  },
  {
   "cell_type": "code",
   "execution_count": 12,
   "id": "d37b5bae-099c-4047-a6c3-b6224628eb27",
   "metadata": {},
   "outputs": [
    {
     "name": "stdout",
     "output_type": "stream",
     "text": [
      "CPU times: total: 875 ms\n",
      "Wall time: 884 ms\n"
     ]
    },
    {
     "data": {
      "text/plain": [
       "(13806, 13806)"
      ]
     },
     "execution_count": 12,
     "metadata": {},
     "output_type": "execute_result"
    }
   ],
   "source": [
    "%%time\n",
    "continuous_occurance_rate = yado_vectorization.get_continuous_occurance_rate_array(log)\n",
    "continuous_occurance_rate.shape"
   ]
  },
  {
   "cell_type": "code",
   "execution_count": 13,
   "id": "5cc2db3d-e882-4459-804e-072f32decbd2",
   "metadata": {},
   "outputs": [
    {
     "data": {
      "text/plain": [
       "array([[0., 0., 0., ..., 0., 0., 0.],\n",
       "       [0., 0., 0., ..., 0., 0., 0.],\n",
       "       [0., 0., 0., ..., 0., 0., 0.],\n",
       "       ...,\n",
       "       [0., 0., 0., ..., 0., 0., 0.],\n",
       "       [0., 0., 0., ..., 0., 0., 0.],\n",
       "       [0., 0., 0., ..., 0., 0., 0.]])"
      ]
     },
     "execution_count": 13,
     "metadata": {},
     "output_type": "execute_result"
    }
   ],
   "source": [
    "continuous_occurance_rate"
   ]
  },
  {
   "cell_type": "code",
   "execution_count": 14,
   "id": "3351234c-9387-4153-8886-2e54eb6fd7b8",
   "metadata": {},
   "outputs": [
    {
     "data": {
      "text/plain": [
       "0"
      ]
     },
     "execution_count": 14,
     "metadata": {},
     "output_type": "execute_result"
    }
   ],
   "source": [
    "np.save(os.path.join(DIRECTORY, \"features\", \"continuous_occurance_rate.npy\"), continuous_occurance_rate)\n",
    "del continuous_occurance_rate\n",
    "gc.collect()"
   ]
  },
  {
   "cell_type": "code",
   "execution_count": null,
   "id": "3a297070-6be5-4788-b7e4-58b45cd84d3b",
   "metadata": {},
   "outputs": [],
   "source": []
  },
  {
   "cell_type": "code",
   "execution_count": null,
   "id": "299fab87-eca0-46e8-a0b1-60959c176395",
   "metadata": {},
   "outputs": [],
   "source": []
  }
 ],
 "metadata": {
  "kernelspec": {
   "display_name": "Python 3 (ipykernel)",
   "language": "python",
   "name": "python3"
  },
  "language_info": {
   "codemirror_mode": {
    "name": "ipython",
    "version": 3
   },
   "file_extension": ".py",
   "mimetype": "text/x-python",
   "name": "python",
   "nbconvert_exporter": "python",
   "pygments_lexer": "ipython3",
   "version": "3.10.11"
  }
 },
 "nbformat": 4,
 "nbformat_minor": 5
}
